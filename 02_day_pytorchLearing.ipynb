{
  "nbformat": 4,
  "nbformat_minor": 0,
  "metadata": {
    "colab": {
      "provenance": [],
      "authorship_tag": "ABX9TyO+F3me1wUcznlh+lffWMNH",
      "include_colab_link": true
    },
    "kernelspec": {
      "name": "python3",
      "display_name": "Python 3"
    },
    "language_info": {
      "name": "python"
    }
  },
  "cells": [
    {
      "cell_type": "markdown",
      "metadata": {
        "id": "view-in-github",
        "colab_type": "text"
      },
      "source": [
        "<a href=\"https://colab.research.google.com/github/devanshi311/Pytorch-Learning/blob/main/02_day_pytorchLearing.ipynb\" target=\"_parent\"><img src=\"https://colab.research.google.com/assets/colab-badge.svg\" alt=\"Open In Colab\"/></a>"
      ]
    },
    {
      "cell_type": "code",
      "execution_count": null,
      "metadata": {
        "id": "tB3cds-PER8g"
      },
      "outputs": [],
      "source": [
        "import torch\n",
        "import pandas as pd\n",
        "import numpy as np\n",
        "import matplotlib.pyplot as plt\n"
      ]
    },
    {
      "cell_type": "code",
      "source": [
        "random_tensor = torch.rand(3,4)\n",
        "random_tensor"
      ],
      "metadata": {
        "colab": {
          "base_uri": "https://localhost:8080/"
        },
        "id": "mgCMaLvSFGKT",
        "outputId": "7a66adc0-a08f-4d21-a50c-53acda980f6e"
      },
      "execution_count": null,
      "outputs": [
        {
          "output_type": "execute_result",
          "data": {
            "text/plain": [
              "tensor([[0.4948, 0.8469, 0.7843, 0.0661],\n",
              "        [0.9555, 0.5071, 0.0241, 0.0656],\n",
              "        [0.8132, 0.9965, 0.9345, 0.0458]])"
            ]
          },
          "metadata": {},
          "execution_count": 3
        }
      ]
    },
    {
      "cell_type": "code",
      "source": [
        "zeros = torch.zeros(size=(3,4))\n",
        "zeros"
      ],
      "metadata": {
        "colab": {
          "base_uri": "https://localhost:8080/"
        },
        "id": "BAxYAWIaF1ap",
        "outputId": "6d3770e3-dd22-4f88-f5e4-e9a03b65687f"
      },
      "execution_count": null,
      "outputs": [
        {
          "output_type": "execute_result",
          "data": {
            "text/plain": [
              "tensor([[0., 0., 0., 0.],\n",
              "        [0., 0., 0., 0.],\n",
              "        [0., 0., 0., 0.]])"
            ]
          },
          "metadata": {},
          "execution_count": 4
        }
      ]
    },
    {
      "cell_type": "code",
      "source": [
        "zeros*random_tensor"
      ],
      "metadata": {
        "colab": {
          "base_uri": "https://localhost:8080/"
        },
        "id": "IE59RKUcF8wX",
        "outputId": "a97a729e-e8a0-4cbc-cc74-fbfec522de47"
      },
      "execution_count": null,
      "outputs": [
        {
          "output_type": "execute_result",
          "data": {
            "text/plain": [
              "tensor([[0., 0., 0., 0.],\n",
              "        [0., 0., 0., 0.],\n",
              "        [0., 0., 0., 0.]])"
            ]
          },
          "metadata": {},
          "execution_count": 5
        }
      ]
    },
    {
      "cell_type": "code",
      "source": [
        "x = torch.arange(start=0, end=11, step=1)\n",
        "x"
      ],
      "metadata": {
        "colab": {
          "base_uri": "https://localhost:8080/"
        },
        "id": "m2oYCaakGv4M",
        "outputId": "c5691260-ad1c-4219-aea3-356d4a38f7fd"
      },
      "execution_count": null,
      "outputs": [
        {
          "output_type": "execute_result",
          "data": {
            "text/plain": [
              "tensor([ 0,  1,  2,  3,  4,  5,  6,  7,  8,  9, 10])"
            ]
          },
          "metadata": {},
          "execution_count": 6
        }
      ]
    },
    {
      "cell_type": "code",
      "source": [
        "ten_zeros = torch.zeros_like(input=x)\n",
        "ten_zeros"
      ],
      "metadata": {
        "colab": {
          "base_uri": "https://localhost:8080/"
        },
        "id": "5Dio3roxG1Cc",
        "outputId": "54a4ff1e-35c9-4a54-b433-f1bb43f26fb6"
      },
      "execution_count": null,
      "outputs": [
        {
          "output_type": "execute_result",
          "data": {
            "text/plain": [
              "tensor([0, 0, 0, 0, 0, 0, 0, 0, 0, 0, 0])"
            ]
          },
          "metadata": {},
          "execution_count": 7
        }
      ]
    },
    {
      "cell_type": "markdown",
      "source": [
        "# Tensor Datatypes\n",
        "\n",
        "**Note:** Tensor Datatypes is one of the 3 big errors you'll run into with pytorch & deep learing:\n",
        "\n",
        "1.   Tensors not right datatype\n",
        "\n",
        "2.  Tensors not right shape\n",
        "\n",
        "3.   Tensors not on the right device\n",
        "\n",
        "\n",
        "\n",
        "\n",
        "\n",
        "\n",
        "\n",
        "  \n",
        "\n"
      ],
      "metadata": {
        "id": "KzA8UvePID0M"
      }
    },
    {
      "cell_type": "code",
      "source": [
        "float_32_tensor = torch.tensor([3.0,6.0,9.0],\n",
        "                               dtype=None,\n",
        "                               device=None,\n",
        "                               requires_grad=False)#whether or not to trac gradients with this tensors oprations\n",
        "float_32_tensor"
      ],
      "metadata": {
        "colab": {
          "base_uri": "https://localhost:8080/"
        },
        "id": "tSi2lb57IJgQ",
        "outputId": "496c8db9-5ef2-457a-d294-836d37a49ee9"
      },
      "execution_count": null,
      "outputs": [
        {
          "output_type": "execute_result",
          "data": {
            "text/plain": [
              "tensor([3., 6., 9.])"
            ]
          },
          "metadata": {},
          "execution_count": 8
        }
      ]
    },
    {
      "cell_type": "code",
      "source": [
        "float_32_tensor.dtype"
      ],
      "metadata": {
        "colab": {
          "base_uri": "https://localhost:8080/"
        },
        "id": "GlFVZ41cIeTy",
        "outputId": "7f809627-ab36-4109-9708-0b9aaf17e21f"
      },
      "execution_count": null,
      "outputs": [
        {
          "output_type": "execute_result",
          "data": {
            "text/plain": [
              "torch.float32"
            ]
          },
          "metadata": {},
          "execution_count": 9
        }
      ]
    },
    {
      "cell_type": "code",
      "source": [
        "float_16_tensor = float_32_tensor.type(torch.float16)\n",
        "float_16_tensor"
      ],
      "metadata": {
        "colab": {
          "base_uri": "https://localhost:8080/"
        },
        "id": "WhzFWmkrLs0q",
        "outputId": "6ab9b2ae-7308-40e2-c758-4bc7b9c078b9"
      },
      "execution_count": null,
      "outputs": [
        {
          "output_type": "execute_result",
          "data": {
            "text/plain": [
              "tensor([3., 6., 9.], dtype=torch.float16)"
            ]
          },
          "metadata": {},
          "execution_count": 10
        }
      ]
    },
    {
      "cell_type": "code",
      "source": [
        "float_16_tensor*float_32_tensor"
      ],
      "metadata": {
        "colab": {
          "base_uri": "https://localhost:8080/"
        },
        "id": "tS2ZxvhnL5F8",
        "outputId": "edbdbdfc-1609-4a15-8c0c-3c75e97338d3"
      },
      "execution_count": null,
      "outputs": [
        {
          "output_type": "execute_result",
          "data": {
            "text/plain": [
              "tensor([ 9., 36., 81.])"
            ]
          },
          "metadata": {},
          "execution_count": 11
        }
      ]
    },
    {
      "cell_type": "code",
      "source": [
        "int_32_tensor = torch.tensor([3,6,9], dtype=torch.int64)\n",
        "int_32_tensor"
      ],
      "metadata": {
        "colab": {
          "base_uri": "https://localhost:8080/"
        },
        "id": "28SLDXDEMB_m",
        "outputId": "7765d3a2-5b15-4e93-e00a-e78d444e9ba3"
      },
      "execution_count": null,
      "outputs": [
        {
          "output_type": "execute_result",
          "data": {
            "text/plain": [
              "tensor([3, 6, 9])"
            ]
          },
          "metadata": {},
          "execution_count": 12
        }
      ]
    },
    {
      "cell_type": "code",
      "source": [
        "float_32_tensor*int_32_tensor"
      ],
      "metadata": {
        "colab": {
          "base_uri": "https://localhost:8080/"
        },
        "id": "5Uq7vG0zM331",
        "outputId": "3558c9a7-fc06-4040-9c35-90d558a3acda"
      },
      "execution_count": null,
      "outputs": [
        {
          "output_type": "execute_result",
          "data": {
            "text/plain": [
              "tensor([ 9., 36., 81.])"
            ]
          },
          "metadata": {},
          "execution_count": 13
        }
      ]
    },
    {
      "cell_type": "code",
      "source": [
        "long_tensor = torch.tensor([3,6,9], dtype=torch.long)\n",
        "long_tensor"
      ],
      "metadata": {
        "colab": {
          "base_uri": "https://localhost:8080/"
        },
        "id": "pRHGZuTZM_6R",
        "outputId": "78367642-4fdf-4e80-d338-49318b22182d"
      },
      "execution_count": null,
      "outputs": [
        {
          "output_type": "execute_result",
          "data": {
            "text/plain": [
              "tensor([3, 6, 9])"
            ]
          },
          "metadata": {},
          "execution_count": 14
        }
      ]
    },
    {
      "cell_type": "code",
      "source": [
        "float_32_tensor*long_tensor"
      ],
      "metadata": {
        "colab": {
          "base_uri": "https://localhost:8080/"
        },
        "id": "PGCokMR6NX2A",
        "outputId": "38351c36-f2b7-4ce0-8e5b-bcb54b5a78c2"
      },
      "execution_count": null,
      "outputs": [
        {
          "output_type": "execute_result",
          "data": {
            "text/plain": [
              "tensor([ 9., 36., 81.])"
            ]
          },
          "metadata": {},
          "execution_count": 15
        }
      ]
    },
    {
      "cell_type": "markdown",
      "source": [
        "# Getting Information from tensors\n",
        "\n",
        "\n",
        "1. Tensors not right datatype - to doget datatypefrom tensor, can use `tensor.type`\n",
        "2. Tensors not right shape - to get shape from a tensor, can use `tensor.shape`\n",
        "3. Tensors not on the right device - to get device from a tensor, can use `tensor.device`\n",
        "    \n",
        "\n",
        "\n",
        "\n",
        "\n",
        "\n"
      ],
      "metadata": {
        "id": "eM1t7wMUO1Yz"
      }
    },
    {
      "cell_type": "code",
      "source": [
        "#crete a tensor\n",
        "some_tensor = torch.rand(3,4)\n",
        "some_tensor"
      ],
      "metadata": {
        "colab": {
          "base_uri": "https://localhost:8080/"
        },
        "id": "udSL3Xp-Pqqh",
        "outputId": "1aa7fdcc-5e23-4674-cb95-5694f7d16245"
      },
      "execution_count": null,
      "outputs": [
        {
          "output_type": "execute_result",
          "data": {
            "text/plain": [
              "tensor([[0.6507, 0.8229, 0.0727, 0.8773],\n",
              "        [0.3979, 0.7468, 0.0167, 0.2951],\n",
              "        [0.8444, 0.2376, 0.1843, 0.2238]])"
            ]
          },
          "metadata": {},
          "execution_count": 16
        }
      ]
    },
    {
      "cell_type": "code",
      "source": [
        "#find out details about some tensor\n",
        "print(some_tensor)\n",
        "print(f\"Datatypes pf tensor: {some_tensor.dtype}\")\n",
        "print(f\"Shape of tensor: {some_tensor.shape}\")\n",
        "print(f\"Device Tensor is on:{some_tensor.device}\")"
      ],
      "metadata": {
        "colab": {
          "base_uri": "https://localhost:8080/"
        },
        "id": "c18dvHDAP9Hz",
        "outputId": "8f16e6d1-90bc-417a-de20-170f8999c172"
      },
      "execution_count": null,
      "outputs": [
        {
          "output_type": "stream",
          "name": "stdout",
          "text": [
            "tensor([[0.6507, 0.8229, 0.0727, 0.8773],\n",
            "        [0.3979, 0.7468, 0.0167, 0.2951],\n",
            "        [0.8444, 0.2376, 0.1843, 0.2238]])\n",
            "Datatypes pf tensor: torch.float32\n",
            "Shape of tensor: torch.Size([3, 4])\n",
            "Device Tensor is on:cpu\n"
          ]
        }
      ]
    },
    {
      "cell_type": "code",
      "source": [
        "some_tensor.size()"
      ],
      "metadata": {
        "colab": {
          "base_uri": "https://localhost:8080/"
        },
        "id": "CMe4m7PsQtaV",
        "outputId": "d00813e4-25f9-40dd-ed93-f0bb6b4c09b2"
      },
      "execution_count": null,
      "outputs": [
        {
          "output_type": "execute_result",
          "data": {
            "text/plain": [
              "torch.Size([3, 4])"
            ]
          },
          "metadata": {},
          "execution_count": 18
        }
      ]
    },
    {
      "cell_type": "markdown",
      "source": [
        "# Manupulating Tensors (tensor oprations)\n",
        "Tensor oprations includes:\n",
        "* Addition\n",
        "* Subtraction\n",
        "* Multiplication (element-wise)\n",
        "* Division\n",
        "* MAtrix multiplication"
      ],
      "metadata": {
        "id": "U-Fej5-VI-qK"
      }
    },
    {
      "cell_type": "code",
      "source": [
        "#create a tensor and 10 t0 it\n",
        "tensor = torch.tensor([1, 2, 3])\n",
        "tensor + 10"
      ],
      "metadata": {
        "colab": {
          "base_uri": "https://localhost:8080/"
        },
        "id": "G5gR5C-9JbYO",
        "outputId": "e5a4e2c7-7fd3-4e95-d00b-4c3107a088ea"
      },
      "execution_count": null,
      "outputs": [
        {
          "output_type": "execute_result",
          "data": {
            "text/plain": [
              "tensor([11, 12, 13])"
            ]
          },
          "metadata": {},
          "execution_count": 19
        }
      ]
    },
    {
      "cell_type": "code",
      "source": [
        "tensor=tensor*10\n",
        "tensor"
      ],
      "metadata": {
        "colab": {
          "base_uri": "https://localhost:8080/"
        },
        "id": "i9pu2-PHJ6DW",
        "outputId": "c517e0b4-5c8b-4a3d-9b10-b585621db162"
      },
      "execution_count": null,
      "outputs": [
        {
          "output_type": "execute_result",
          "data": {
            "text/plain": [
              "tensor([10, 20, 30])"
            ]
          },
          "metadata": {},
          "execution_count": 20
        }
      ]
    },
    {
      "cell_type": "code",
      "source": [
        "tensor-5"
      ],
      "metadata": {
        "colab": {
          "base_uri": "https://localhost:8080/"
        },
        "id": "trwbUnF3KNUh",
        "outputId": "c025f7f9-4ca5-4aed-af76-e98742a9d16c"
      },
      "execution_count": null,
      "outputs": [
        {
          "output_type": "execute_result",
          "data": {
            "text/plain": [
              "tensor([ 5, 15, 25])"
            ]
          },
          "metadata": {},
          "execution_count": 21
        }
      ]
    },
    {
      "cell_type": "code",
      "source": [
        "torch.mul(tensor,2)"
      ],
      "metadata": {
        "colab": {
          "base_uri": "https://localhost:8080/"
        },
        "id": "shWHV4qAKcQq",
        "outputId": "7d5542c6-0e97-42d9-881e-751a5b73dbd7"
      },
      "execution_count": null,
      "outputs": [
        {
          "output_type": "execute_result",
          "data": {
            "text/plain": [
              "tensor([20, 40, 60])"
            ]
          },
          "metadata": {},
          "execution_count": 22
        }
      ]
    },
    {
      "cell_type": "code",
      "source": [
        "torch.add(tensor,55)"
      ],
      "metadata": {
        "colab": {
          "base_uri": "https://localhost:8080/"
        },
        "id": "k9rMe0ztKy2d",
        "outputId": "23307184-d3a6-4df3-e992-eb9867a712e5"
      },
      "execution_count": null,
      "outputs": [
        {
          "output_type": "execute_result",
          "data": {
            "text/plain": [
              "tensor([65, 75, 85])"
            ]
          },
          "metadata": {},
          "execution_count": 23
        }
      ]
    },
    {
      "cell_type": "markdown",
      "source": [
        "### MATRIX MULTIPLICATION\n",
        "Two main ways of performing multiplication in neural networks and deep learning:\n",
        "1. Element-wise multiplication\n",
        "2. MAtrix multiplication(dot Product)\n",
        "\n"
      ],
      "metadata": {
        "id": "-0E3xlhjLGYv"
      }
    },
    {
      "cell_type": "code",
      "source": [
        "#element wise multiplication\n",
        "print(tensor, \"*\",tensor)\n",
        "print(f\"Eqquals: {tensor * tensor}\")"
      ],
      "metadata": {
        "colab": {
          "base_uri": "https://localhost:8080/"
        },
        "id": "_vcugXG0Lw4k",
        "outputId": "cbf658bd-2bba-4794-f925-eb2b659ce9e3"
      },
      "execution_count": null,
      "outputs": [
        {
          "output_type": "stream",
          "name": "stdout",
          "text": [
            "tensor([10, 20, 30]) * tensor([10, 20, 30])\n",
            "Eqquals: tensor([100, 400, 900])\n"
          ]
        }
      ]
    },
    {
      "cell_type": "code",
      "source": [
        "#MAtrix Multiplication\n",
        "torch.matmul(tensor,tensor)"
      ],
      "metadata": {
        "colab": {
          "base_uri": "https://localhost:8080/"
        },
        "id": "RFAneelTMSxj",
        "outputId": "8424460e-ce9b-4b70-f518-4419b9c74f87"
      },
      "execution_count": null,
      "outputs": [
        {
          "output_type": "execute_result",
          "data": {
            "text/plain": [
              "tensor(1400)"
            ]
          },
          "metadata": {},
          "execution_count": 25
        }
      ]
    },
    {
      "cell_type": "code",
      "source": [
        "tensor=torch.tensor([1,2,3])\n",
        "tensor"
      ],
      "metadata": {
        "colab": {
          "base_uri": "https://localhost:8080/"
        },
        "id": "caUudJvwMdPt",
        "outputId": "119c545b-2804-4001-d95f-865556b961ac"
      },
      "execution_count": null,
      "outputs": [
        {
          "output_type": "execute_result",
          "data": {
            "text/plain": [
              "tensor([1, 2, 3])"
            ]
          },
          "metadata": {},
          "execution_count": 26
        }
      ]
    },
    {
      "cell_type": "code",
      "source": [
        "#matrix multiplication by hand\n",
        "10*10 + 20*20 + 30*30"
      ],
      "metadata": {
        "colab": {
          "base_uri": "https://localhost:8080/"
        },
        "id": "1uNec0vlMsWl",
        "outputId": "86258486-fb97-440b-bcdb-ca2229666023"
      },
      "execution_count": null,
      "outputs": [
        {
          "output_type": "execute_result",
          "data": {
            "text/plain": [
              "1400"
            ]
          },
          "metadata": {},
          "execution_count": 27
        }
      ]
    },
    {
      "cell_type": "code",
      "source": [
        "%%time\n",
        "val = 0\n",
        "for i in range(len(tensor)):\n",
        "  val += tensor[i] * tensor[i]\n",
        "print(val)\n"
      ],
      "metadata": {
        "colab": {
          "base_uri": "https://localhost:8080/"
        },
        "id": "vHZAwFX0NDwA",
        "outputId": "3567547b-775f-47f8-8995-888cea9e1049"
      },
      "execution_count": null,
      "outputs": [
        {
          "output_type": "stream",
          "name": "stdout",
          "text": [
            "tensor(14)\n",
            "CPU times: user 2.3 ms, sys: 872 µs, total: 3.17 ms\n",
            "Wall time: 3.85 ms\n"
          ]
        }
      ]
    },
    {
      "cell_type": "code",
      "source": [
        "%%time\n",
        "torch.matmul(tensor, tensor)"
      ],
      "metadata": {
        "colab": {
          "base_uri": "https://localhost:8080/"
        },
        "id": "LEy7wYG_N5IZ",
        "outputId": "73e8cdfb-8b23-4a36-f918-6b98bb14b755"
      },
      "execution_count": null,
      "outputs": [
        {
          "output_type": "stream",
          "name": "stdout",
          "text": [
            "CPU times: user 68 µs, sys: 13 µs, total: 81 µs\n",
            "Wall time: 85.1 µs\n"
          ]
        },
        {
          "output_type": "execute_result",
          "data": {
            "text/plain": [
              "tensor(14)"
            ]
          },
          "metadata": {},
          "execution_count": 29
        }
      ]
    },
    {
      "cell_type": "markdown",
      "source": [
        "# Matrix Multiplication\n",
        "1. **inner Dimesnsion must match:**\n",
        "*  `(3,2) @ (2,4)` will work\n",
        "*  `(3,4) @ (4,1)` will work\n",
        "2. the resulting matrix has the shape of the **outer dimensions:**\n",
        "* `(3,2) @ (2,4)`->`(3,4)`\n",
        "* `(3,4) @ (4,1)` -> `(3,1)`"
      ],
      "metadata": {
        "id": "LMJh8By6OdOz"
      }
    },
    {
      "cell_type": "code",
      "source": [
        "torch.matmul(torch.rand(10,10),torch.rand(10,10)).shape"
      ],
      "metadata": {
        "colab": {
          "base_uri": "https://localhost:8080/"
        },
        "id": "t6gG3B4TP6WI",
        "outputId": "7bfe61da-be30-4190-a531-f9e4ae34eea6"
      },
      "execution_count": null,
      "outputs": [
        {
          "output_type": "execute_result",
          "data": {
            "text/plain": [
              "torch.Size([10, 10])"
            ]
          },
          "metadata": {},
          "execution_count": 30
        }
      ]
    },
    {
      "cell_type": "markdown",
      "source": [
        "### One of the most common errors in deep learing: shape errors"
      ],
      "metadata": {
        "id": "LmLMUmAtQpt1"
      }
    },
    {
      "cell_type": "code",
      "source": [
        "#shape for matrix multiplication\n",
        "\n",
        "A = torch.tensor([[1,2],\n",
        "                  [3,4],\n",
        "                  [5,6]])\n",
        "\n",
        "B = torch.tensor([[7,10],\n",
        "                  [8,11]])\n",
        "\n",
        "torch.mm(A, B) #torch.mm is the same as torch.matmul (it's an alia0s for writting less code)"
      ],
      "metadata": {
        "colab": {
          "base_uri": "https://localhost:8080/"
        },
        "id": "hpU8mu2KRm_L",
        "outputId": "e07e910e-7107-4439-8173-8cadb96d72f2"
      },
      "execution_count": null,
      "outputs": [
        {
          "output_type": "execute_result",
          "data": {
            "text/plain": [
              "tensor([[ 23,  32],\n",
              "        [ 53,  74],\n",
              "        [ 83, 116]])"
            ]
          },
          "metadata": {},
          "execution_count": 31
        }
      ]
    },
    {
      "cell_type": "code",
      "source": [
        "B.shape"
      ],
      "metadata": {
        "colab": {
          "base_uri": "https://localhost:8080/"
        },
        "id": "HYd87yo1TGeV",
        "outputId": "d608aa8a-fbe9-44b0-9c58-006a67173e7f"
      },
      "execution_count": null,
      "outputs": [
        {
          "output_type": "execute_result",
          "data": {
            "text/plain": [
              "torch.Size([2, 2])"
            ]
          },
          "metadata": {},
          "execution_count": 32
        }
      ]
    },
    {
      "cell_type": "code",
      "source": [
        "#Transpose\n",
        "B.T,B"
      ],
      "metadata": {
        "colab": {
          "base_uri": "https://localhost:8080/"
        },
        "id": "MQ0eltKdSBIB",
        "outputId": "f7f9d6e4-5a93-4c39-ab86-4b7736d0bbd8"
      },
      "execution_count": null,
      "outputs": [
        {
          "output_type": "execute_result",
          "data": {
            "text/plain": [
              "(tensor([[ 7,  8],\n",
              "         [10, 11]]),\n",
              " tensor([[ 7, 10],\n",
              "         [ 8, 11]]))"
            ]
          },
          "metadata": {},
          "execution_count": 33
        }
      ]
    },
    {
      "cell_type": "code",
      "source": [
        "\n",
        "A = torch.tensor([[1,2],\n",
        "                  [3,4],\n",
        "                  [5,6]])\n",
        "\n",
        "B = torch.tensor([[7,10],\n",
        "                  [8,11],[3,3]])"
      ],
      "metadata": {
        "id": "2QuyXPnFWTnd"
      },
      "execution_count": null,
      "outputs": []
    },
    {
      "cell_type": "code",
      "source": [
        "\n",
        "print(f\"Orignal shaps: A = {A.shape}, tensor_B = {B.shape}\")\n",
        "print(f\"New shape after transpose A = {A.shape} tensor B = {B.T.shape}\")\n",
        "print(f\"Multiplying: {A.shape} @ {B.T.shape}  <- inner dimension must be same\")\n",
        "print(\"output:\\n\")\n",
        "x=torch.mm(A,B.T)\n",
        "print(x)\n",
        "print(f\"Output shape: {x.shape}\")"
      ],
      "metadata": {
        "colab": {
          "base_uri": "https://localhost:8080/"
        },
        "id": "QTfsd-c4TNe3",
        "outputId": "87e0c8d8-11ef-4e14-aad8-c18959d3f426"
      },
      "execution_count": null,
      "outputs": [
        {
          "output_type": "stream",
          "name": "stdout",
          "text": [
            "Orignal shaps: A = torch.Size([3, 2]), tensor_B = torch.Size([3, 2])\n",
            "New shape after transpose A = torch.Size([3, 2]) tensor B = torch.Size([2, 3])\n",
            "Multiplying: torch.Size([3, 2]) @ torch.Size([2, 3])  <- inner dimension must be same\n",
            "output:\n",
            "\n",
            "tensor([[ 27,  30,   9],\n",
            "        [ 61,  68,  21],\n",
            "        [ 95, 106,  33]])\n",
            "Output shape: torch.Size([3, 3])\n"
          ]
        }
      ]
    },
    {
      "cell_type": "markdown",
      "source": [
        "### Finding the min, max, sum, etc(tensor aggrication)"
      ],
      "metadata": {
        "id": "Eij3S8dTXDEw"
      }
    },
    {
      "cell_type": "code",
      "source": [
        "x=torch.arange(0,100,10)\n",
        "x"
      ],
      "metadata": {
        "colab": {
          "base_uri": "https://localhost:8080/"
        },
        "id": "6-tsfIiQXLtA",
        "outputId": "88ebc680-06fe-40c4-a0b0-608a0f836be1"
      },
      "execution_count": null,
      "outputs": [
        {
          "output_type": "execute_result",
          "data": {
            "text/plain": [
              "tensor([ 0, 10, 20, 30, 40, 50, 60, 70, 80, 90])"
            ]
          },
          "metadata": {},
          "execution_count": 36
        }
      ]
    },
    {
      "cell_type": "code",
      "source": [
        "torch.min(x), x.min()"
      ],
      "metadata": {
        "colab": {
          "base_uri": "https://localhost:8080/"
        },
        "id": "3c54IjoVXTlk",
        "outputId": "23bbf347-6a21-40b8-c7e1-7fb5fc1df16e"
      },
      "execution_count": null,
      "outputs": [
        {
          "output_type": "execute_result",
          "data": {
            "text/plain": [
              "(tensor(0), tensor(0))"
            ]
          },
          "metadata": {},
          "execution_count": 37
        }
      ]
    },
    {
      "cell_type": "code",
      "source": [
        "torch.max(x), x.max()"
      ],
      "metadata": {
        "colab": {
          "base_uri": "https://localhost:8080/"
        },
        "id": "5ui3mzWZXYqv",
        "outputId": "cb892fba-2417-47bf-ff26-6309f4f5efce"
      },
      "execution_count": null,
      "outputs": [
        {
          "output_type": "execute_result",
          "data": {
            "text/plain": [
              "(tensor(90), tensor(90))"
            ]
          },
          "metadata": {},
          "execution_count": 38
        }
      ]
    },
    {
      "cell_type": "code",
      "source": [
        "#find the mean : Note--> the torch.mean() function  req a tensor of float32 datatype\n",
        "torch.mean(x.type(torch.float32)), x.type(torch.float32).mean()"
      ],
      "metadata": {
        "colab": {
          "base_uri": "https://localhost:8080/"
        },
        "id": "eeFgcsHnXkbx",
        "outputId": "47b95503-9edc-43e3-b721-18662151792f"
      },
      "execution_count": null,
      "outputs": [
        {
          "output_type": "execute_result",
          "data": {
            "text/plain": [
              "(tensor(45.), tensor(45.))"
            ]
          },
          "metadata": {},
          "execution_count": 39
        }
      ]
    },
    {
      "cell_type": "code",
      "source": [
        "#find the sum\n",
        "torch.sum(x), x.sum()"
      ],
      "metadata": {
        "colab": {
          "base_uri": "https://localhost:8080/"
        },
        "id": "O-SxsS41Xofj",
        "outputId": "cf55a217-e32f-436e-de9e-808c354b688c"
      },
      "execution_count": null,
      "outputs": [
        {
          "output_type": "execute_result",
          "data": {
            "text/plain": [
              "(tensor(450), tensor(450))"
            ]
          },
          "metadata": {},
          "execution_count": 40
        }
      ]
    },
    {
      "cell_type": "markdown",
      "source": [
        "##Finding the positional min and max"
      ],
      "metadata": {
        "id": "Nell4GAXY1Dt"
      }
    },
    {
      "cell_type": "code",
      "source": [
        "x"
      ],
      "metadata": {
        "colab": {
          "base_uri": "https://localhost:8080/"
        },
        "id": "u6qi1CdYY7Ub",
        "outputId": "ba91103c-43c7-4c5e-fbd1-0721c582d0bb"
      },
      "execution_count": null,
      "outputs": [
        {
          "output_type": "execute_result",
          "data": {
            "text/plain": [
              "tensor([ 0, 10, 20, 30, 40, 50, 60, 70, 80, 90])"
            ]
          },
          "metadata": {},
          "execution_count": 41
        }
      ]
    },
    {
      "cell_type": "code",
      "source": [
        "\n",
        "## to find position ot index of min val in tensor\n",
        "x.argmin()"
      ],
      "metadata": {
        "colab": {
          "base_uri": "https://localhost:8080/"
        },
        "id": "rCJCjQ1-Y8CB",
        "outputId": "03b24efe-60d2-4349-d67d-90ff231939af"
      },
      "execution_count": null,
      "outputs": [
        {
          "output_type": "execute_result",
          "data": {
            "text/plain": [
              "tensor(0)"
            ]
          },
          "metadata": {},
          "execution_count": 42
        }
      ]
    },
    {
      "cell_type": "code",
      "source": [
        "x[0]"
      ],
      "metadata": {
        "colab": {
          "base_uri": "https://localhost:8080/"
        },
        "id": "MSX72FRCZAkF",
        "outputId": "f6dfaf90-46e0-4ab7-c19e-16fef07b0277"
      },
      "execution_count": null,
      "outputs": [
        {
          "output_type": "execute_result",
          "data": {
            "text/plain": [
              "tensor(0)"
            ]
          },
          "metadata": {},
          "execution_count": 43
        }
      ]
    },
    {
      "cell_type": "code",
      "source": [
        "##same for max\n",
        "x.argmax()"
      ],
      "metadata": {
        "colab": {
          "base_uri": "https://localhost:8080/"
        },
        "id": "i_OE7V9NZC-H",
        "outputId": "acc1eade-4448-49c5-8bab-ae60dd96296f"
      },
      "execution_count": null,
      "outputs": [
        {
          "output_type": "execute_result",
          "data": {
            "text/plain": [
              "tensor(9)"
            ]
          },
          "metadata": {},
          "execution_count": 44
        }
      ]
    },
    {
      "cell_type": "code",
      "source": [
        "x[9]"
      ],
      "metadata": {
        "colab": {
          "base_uri": "https://localhost:8080/"
        },
        "id": "MF7d1gP9ZOO9",
        "outputId": "899244f6-87fa-4b19-e537-6088087399d8"
      },
      "execution_count": null,
      "outputs": [
        {
          "output_type": "execute_result",
          "data": {
            "text/plain": [
              "tensor(90)"
            ]
          },
          "metadata": {},
          "execution_count": 45
        }
      ]
    },
    {
      "cell_type": "markdown",
      "source": [
        "##Reshapeing, stacking, squeezing and unsqueezing tensors\n",
        "* Reshaping - reshapesan inut tensor to a defined shape\n",
        "* View - Return a view of an input tensor of certain shape but keep the same memory as the original tensor\n",
        "* Stacking - combine multiple tensors on top of each other (vstack) or side by side(hstack)\n",
        "* Squeeze - remove all `1` dimension from a tensor\n",
        "* Unsqueeze - and a `1` dimension to a target tensor\n",
        "* Permute - return a view of the input with dimention permuted(swapped) in a certain way"
      ],
      "metadata": {
        "id": "cr9gNYc1ZSsu"
      }
    },
    {
      "cell_type": "code",
      "source": [
        "#Let's  create tensor\n",
        "import torch\n",
        "x=torch.arange(1.,10.)\n",
        "x,x.shape"
      ],
      "metadata": {
        "colab": {
          "base_uri": "https://localhost:8080/"
        },
        "id": "8mcO9IC7ZQw1",
        "outputId": "9da4812c-17ca-4ddc-c424-ad4467b222f3"
      },
      "execution_count": null,
      "outputs": [
        {
          "output_type": "execute_result",
          "data": {
            "text/plain": [
              "(tensor([1., 2., 3., 4., 5., 6., 7., 8., 9.]), torch.Size([9]))"
            ]
          },
          "metadata": {},
          "execution_count": 46
        }
      ]
    },
    {
      "cell_type": "code",
      "source": [
        "#add an extra dimension\n",
        "x_reshaped = x.reshape(1,9)\n",
        "x_reshaped, x_reshaped.shape"
      ],
      "metadata": {
        "colab": {
          "base_uri": "https://localhost:8080/"
        },
        "id": "eUhEFQQxbW6Q",
        "outputId": "7b6f5345-a77f-46b3-8781-bb847ac3a0a1"
      },
      "execution_count": null,
      "outputs": [
        {
          "output_type": "execute_result",
          "data": {
            "text/plain": [
              "(tensor([[1., 2., 3., 4., 5., 6., 7., 8., 9.]]), torch.Size([1, 9]))"
            ]
          },
          "metadata": {},
          "execution_count": 47
        }
      ]
    },
    {
      "cell_type": "code",
      "source": [
        "# y_reshaped = x.reshape(3,3)\n",
        "# y_reshaped, y_reshaped.shape"
      ],
      "metadata": {
        "id": "A9osaJhsbn9A"
      },
      "execution_count": null,
      "outputs": []
    },
    {
      "cell_type": "code",
      "source": [
        "#change the view\n",
        "z=x.view(1,9)\n",
        "z,z.shape"
      ],
      "metadata": {
        "colab": {
          "base_uri": "https://localhost:8080/"
        },
        "id": "Lh2WjBUJbu_r",
        "outputId": "e451507b-dc9e-468e-b7bf-0cc5afa6f333"
      },
      "execution_count": null,
      "outputs": [
        {
          "output_type": "execute_result",
          "data": {
            "text/plain": [
              "(tensor([[1., 2., 3., 4., 5., 6., 7., 8., 9.]]), torch.Size([1, 9]))"
            ]
          },
          "metadata": {},
          "execution_count": 49
        }
      ]
    },
    {
      "cell_type": "code",
      "source": [
        "##Changing z changes x (becuase a view of a tensor shares the same memory as the original input)\n",
        "z[:,0]=5\n",
        "z,x"
      ],
      "metadata": {
        "colab": {
          "base_uri": "https://localhost:8080/"
        },
        "id": "8GTCdOjfcfNd",
        "outputId": "54867fe3-15cf-446e-871f-042df29ef80f"
      },
      "execution_count": null,
      "outputs": [
        {
          "output_type": "execute_result",
          "data": {
            "text/plain": [
              "(tensor([[5., 2., 3., 4., 5., 6., 7., 8., 9.]]),\n",
              " tensor([5., 2., 3., 4., 5., 6., 7., 8., 9.]))"
            ]
          },
          "metadata": {},
          "execution_count": 50
        }
      ]
    },
    {
      "cell_type": "code",
      "source": [
        "#Stack tensors on top of each other\n",
        "x_stacked = torch.stack([x,x,x,x],dim=1)\n",
        "x_stacked"
      ],
      "metadata": {
        "colab": {
          "base_uri": "https://localhost:8080/"
        },
        "id": "03oBOCtodAVh",
        "outputId": "f7d5a2fe-eb3b-49fe-b19d-d097e1cd1033"
      },
      "execution_count": null,
      "outputs": [
        {
          "output_type": "execute_result",
          "data": {
            "text/plain": [
              "tensor([[5., 5., 5., 5.],\n",
              "        [2., 2., 2., 2.],\n",
              "        [3., 3., 3., 3.],\n",
              "        [4., 4., 4., 4.],\n",
              "        [5., 5., 5., 5.],\n",
              "        [6., 6., 6., 6.],\n",
              "        [7., 7., 7., 7.],\n",
              "        [8., 8., 8., 8.],\n",
              "        [9., 9., 9., 9.]])"
            ]
          },
          "metadata": {},
          "execution_count": 51
        }
      ]
    },
    {
      "cell_type": "code",
      "source": [
        "x_reshaped"
      ],
      "metadata": {
        "id": "6AdyOGX7d47e",
        "colab": {
          "base_uri": "https://localhost:8080/"
        },
        "outputId": "48423330-de17-489f-d669-ca59623691b5"
      },
      "execution_count": null,
      "outputs": [
        {
          "output_type": "execute_result",
          "data": {
            "text/plain": [
              "tensor([[5., 2., 3., 4., 5., 6., 7., 8., 9.]])"
            ]
          },
          "metadata": {},
          "execution_count": 52
        }
      ]
    },
    {
      "cell_type": "code",
      "source": [
        "x_reshaped.shape"
      ],
      "metadata": {
        "id": "DtMGLWkTroPa",
        "colab": {
          "base_uri": "https://localhost:8080/"
        },
        "outputId": "89c76510-245b-4901-c3e2-98b121e17a90"
      },
      "execution_count": null,
      "outputs": [
        {
          "output_type": "execute_result",
          "data": {
            "text/plain": [
              "torch.Size([1, 9])"
            ]
          },
          "metadata": {},
          "execution_count": 53
        }
      ]
    },
    {
      "cell_type": "code",
      "source": [
        "x_reshaped.squeeze()"
      ],
      "metadata": {
        "colab": {
          "base_uri": "https://localhost:8080/"
        },
        "id": "KiCXfWnytrNS",
        "outputId": "7baf153a-2f72-4470-b20c-fe73405b063b"
      },
      "execution_count": null,
      "outputs": [
        {
          "output_type": "execute_result",
          "data": {
            "text/plain": [
              "tensor([5., 2., 3., 4., 5., 6., 7., 8., 9.])"
            ]
          },
          "metadata": {},
          "execution_count": 54
        }
      ]
    },
    {
      "cell_type": "code",
      "source": [
        "x_reshaped.squeeze().shape"
      ],
      "metadata": {
        "colab": {
          "base_uri": "https://localhost:8080/"
        },
        "id": "5RFSz2V9t0mW",
        "outputId": "139dc486-102d-4d88-caed-e9e490a65536"
      },
      "execution_count": null,
      "outputs": [
        {
          "output_type": "execute_result",
          "data": {
            "text/plain": [
              "torch.Size([9])"
            ]
          },
          "metadata": {},
          "execution_count": 55
        }
      ]
    },
    {
      "cell_type": "code",
      "source": [
        "#torch.squeeze() - remove all single dimensions from a target tensor\n",
        "print(f\"Privous tensor: {x_reshaped}\")\n",
        "print(f\"Privous tensor shape: {x_reshaped.shape}\")\n",
        "\n",
        "# Remove extra dimension from x_reshaped\n",
        "x_squeezed =  x_reshaped.squeeze()\n",
        "print(f\"\\nNew tensor: {x_squeezed}\")\n",
        "print(f\"New tensor shape: {x_squeezed.shape}\")"
      ],
      "metadata": {
        "colab": {
          "base_uri": "https://localhost:8080/"
        },
        "id": "W8ubIsd8t3d-",
        "outputId": "125aceef-267d-4305-e604-43932e352137"
      },
      "execution_count": null,
      "outputs": [
        {
          "output_type": "stream",
          "name": "stdout",
          "text": [
            "Privous tensor: tensor([[5., 2., 3., 4., 5., 6., 7., 8., 9.]])\n",
            "Privous tensor shape: torch.Size([1, 9])\n",
            "\n",
            "New tensor: tensor([5., 2., 3., 4., 5., 6., 7., 8., 9.])\n",
            "New tensor shape: torch.Size([9])\n"
          ]
        }
      ]
    },
    {
      "cell_type": "code",
      "source": [
        "#torch.unsqueeze() - adds a single dimension to a target tensor at a specific dim\n",
        "print(f\"Privious tensor: {x_squeezed}\")\n",
        "print(f\"Privious shape: {x_squeezed.shape}\")\n",
        "\n",
        "#Add  an extra dimenstion with unsqueeze\n",
        "x_unsqueezed = x_squeezed.unsqueeze(dim=1)\n",
        "print(f\"\\n New tensor: {x_unsqueezed}\")\n",
        "print(f\"\\n New shape: {x_unsqueezed.shape}\")"
      ],
      "metadata": {
        "colab": {
          "base_uri": "https://localhost:8080/"
        },
        "id": "esmGdYDEvdrO",
        "outputId": "2992fcb8-3930-45e8-9caa-6c866bdb65bd"
      },
      "execution_count": null,
      "outputs": [
        {
          "output_type": "stream",
          "name": "stdout",
          "text": [
            "Privious tensor: tensor([5., 2., 3., 4., 5., 6., 7., 8., 9.])\n",
            "Privious shape: torch.Size([9])\n",
            "\n",
            " New tensor: tensor([[5.],\n",
            "        [2.],\n",
            "        [3.],\n",
            "        [4.],\n",
            "        [5.],\n",
            "        [6.],\n",
            "        [7.],\n",
            "        [8.],\n",
            "        [9.]])\n",
            "\n",
            " New shape: torch.Size([9, 1])\n"
          ]
        }
      ]
    },
    {
      "cell_type": "markdown",
      "source": [
        "##Torch.Permute"
      ],
      "metadata": {
        "id": "S0Lt3Xf1viAS"
      }
    },
    {
      "cell_type": "code",
      "source": [
        "  #torch.permute rearrange the dimensions of a target tensor in a specified order\n",
        "  x_original = torch.rand(size=(224,224,3))\n",
        "\n",
        "  #permute the original tensor to rearrange the axis (or dim) order\n",
        "  x_permuted = x_original.permute(2, 0, 1) #shift axis 0->1, 1->2 2->0\n",
        "\n",
        "  print(f\"Privious shape: {x_original.shape}\")\n",
        "  print(f\"New shape: {x_permuted.shape}\")#[colour_channels, height, width]"
      ],
      "metadata": {
        "colab": {
          "base_uri": "https://localhost:8080/"
        },
        "id": "gsC90Ytjw6IY",
        "outputId": "6fe95ca6-e37a-434c-df07-507ed218e2ef"
      },
      "execution_count": null,
      "outputs": [
        {
          "output_type": "stream",
          "name": "stdout",
          "text": [
            "Privious shape: torch.Size([224, 224, 3])\n",
            "New shape: torch.Size([3, 224, 224])\n"
          ]
        }
      ]
    },
    {
      "cell_type": "code",
      "source": [
        "x_original[0,:,:]"
      ],
      "metadata": {
        "colab": {
          "base_uri": "https://localhost:8080/"
        },
        "id": "QfszK0WQu4pg",
        "outputId": "75d52608-725f-474c-9d26-1fbe16a888ea"
      },
      "execution_count": null,
      "outputs": [
        {
          "output_type": "execute_result",
          "data": {
            "text/plain": [
              "tensor([[2.3316e-01, 7.0361e-01, 6.1178e-01],\n",
              "        [3.4909e-01, 1.4262e-01, 8.1884e-01],\n",
              "        [4.0094e-01, 3.6650e-01, 2.6719e-02],\n",
              "        [5.7561e-01, 6.5303e-02, 2.9995e-01],\n",
              "        [3.2409e-02, 1.7230e-01, 4.6504e-01],\n",
              "        [6.8342e-01, 5.5308e-02, 8.8333e-01],\n",
              "        [4.2990e-01, 5.2147e-01, 8.1470e-01],\n",
              "        [9.6189e-01, 4.3490e-01, 5.4499e-01],\n",
              "        [9.1132e-01, 8.4438e-01, 9.9984e-01],\n",
              "        [8.5307e-01, 2.9380e-01, 6.0380e-01],\n",
              "        [1.3665e-01, 9.4527e-02, 1.3516e-01],\n",
              "        [9.3555e-01, 5.3728e-01, 3.0758e-01],\n",
              "        [7.5330e-01, 9.6091e-01, 9.5253e-02],\n",
              "        [2.2277e-01, 4.4904e-01, 6.1881e-01],\n",
              "        [6.2373e-01, 8.4718e-01, 4.3422e-01],\n",
              "        [3.2326e-01, 4.9639e-01, 9.9610e-01],\n",
              "        [9.3944e-01, 4.9680e-02, 7.4537e-01],\n",
              "        [3.4350e-01, 6.2260e-01, 4.8557e-01],\n",
              "        [2.7003e-01, 7.4589e-02, 3.9336e-01],\n",
              "        [6.3501e-01, 2.9892e-01, 3.2318e-01],\n",
              "        [5.4603e-01, 5.1100e-01, 5.2224e-01],\n",
              "        [2.1755e-01, 9.1637e-01, 7.6122e-02],\n",
              "        [5.7754e-01, 8.8556e-01, 9.8790e-01],\n",
              "        [9.7233e-01, 3.1695e-01, 5.6826e-02],\n",
              "        [3.7593e-01, 9.3177e-01, 2.2078e-03],\n",
              "        [5.9875e-01, 3.6143e-01, 3.2893e-01],\n",
              "        [8.1332e-01, 7.4530e-01, 3.8820e-01],\n",
              "        [8.0525e-01, 4.2323e-01, 7.5517e-01],\n",
              "        [4.3814e-01, 2.5542e-01, 4.9019e-01],\n",
              "        [3.1069e-01, 2.3592e-01, 2.1810e-01],\n",
              "        [1.3244e-01, 7.3377e-02, 1.2923e-01],\n",
              "        [3.5757e-02, 4.1374e-01, 2.2123e-01],\n",
              "        [4.4781e-01, 4.0888e-01, 9.9938e-01],\n",
              "        [3.2694e-01, 7.4280e-01, 8.3054e-01],\n",
              "        [4.7510e-01, 5.3490e-01, 1.8143e-01],\n",
              "        [7.2138e-01, 7.2065e-01, 2.9225e-03],\n",
              "        [8.5765e-01, 7.2752e-01, 6.5429e-01],\n",
              "        [9.4281e-01, 2.3101e-01, 4.7985e-01],\n",
              "        [7.8116e-01, 9.7684e-01, 6.6021e-01],\n",
              "        [7.5847e-01, 6.6559e-01, 8.2479e-01],\n",
              "        [8.1625e-01, 2.5704e-02, 2.3458e-01],\n",
              "        [8.5722e-01, 4.1128e-01, 5.0203e-01],\n",
              "        [7.5334e-01, 4.0125e-01, 5.8112e-01],\n",
              "        [7.9227e-01, 4.8300e-01, 6.1228e-01],\n",
              "        [4.3162e-01, 9.7142e-01, 8.1358e-02],\n",
              "        [4.0484e-01, 3.8801e-01, 3.2514e-01],\n",
              "        [3.3731e-01, 4.5443e-01, 1.5234e-01],\n",
              "        [1.4994e-01, 5.5445e-01, 5.7676e-01],\n",
              "        [5.9685e-01, 9.8633e-01, 6.2490e-01],\n",
              "        [2.0914e-01, 6.1479e-01, 4.9568e-01],\n",
              "        [9.7227e-02, 9.6633e-01, 9.4303e-01],\n",
              "        [4.6548e-01, 9.9126e-01, 2.0458e-01],\n",
              "        [1.7835e-01, 2.2480e-01, 3.3200e-01],\n",
              "        [1.0812e-01, 3.9817e-01, 4.5992e-01],\n",
              "        [7.6971e-01, 1.2008e-01, 7.1035e-01],\n",
              "        [9.7758e-01, 1.1117e-01, 4.0355e-01],\n",
              "        [7.7920e-01, 6.2792e-02, 6.3092e-01],\n",
              "        [6.7142e-01, 5.0200e-01, 5.9969e-01],\n",
              "        [2.2357e-02, 8.2307e-01, 6.5928e-01],\n",
              "        [6.9484e-01, 2.1445e-01, 3.1728e-01],\n",
              "        [1.6254e-01, 4.1485e-01, 5.1931e-02],\n",
              "        [5.4326e-01, 8.6704e-01, 6.0018e-01],\n",
              "        [8.1581e-01, 2.9052e-01, 1.3775e-01],\n",
              "        [6.3891e-01, 5.6768e-01, 6.1181e-01],\n",
              "        [8.7542e-01, 6.0805e-01, 1.8365e-01],\n",
              "        [5.3663e-01, 7.2521e-01, 6.8432e-01],\n",
              "        [5.1023e-01, 6.5470e-01, 1.5225e-01],\n",
              "        [2.2393e-01, 7.9449e-01, 5.6669e-01],\n",
              "        [2.7523e-01, 6.0749e-01, 4.0949e-01],\n",
              "        [1.0870e-01, 9.0011e-01, 8.7233e-01],\n",
              "        [4.4900e-01, 4.6285e-01, 1.8032e-01],\n",
              "        [2.8556e-01, 1.4017e-01, 8.5682e-01],\n",
              "        [4.2132e-01, 4.9545e-01, 8.8444e-01],\n",
              "        [3.2157e-01, 4.5732e-01, 2.3861e-01],\n",
              "        [8.1714e-01, 7.0559e-01, 2.0476e-01],\n",
              "        [7.8366e-01, 4.1505e-01, 8.1765e-01],\n",
              "        [2.9212e-01, 9.4685e-01, 1.7260e-01],\n",
              "        [3.9624e-01, 8.4782e-01, 8.3383e-02],\n",
              "        [8.0479e-01, 8.4442e-01, 1.7344e-01],\n",
              "        [9.8307e-01, 6.4987e-01, 2.1888e-02],\n",
              "        [8.0669e-01, 4.9552e-01, 8.9184e-01],\n",
              "        [3.2170e-01, 3.9424e-01, 1.5878e-01],\n",
              "        [3.2625e-01, 4.2918e-01, 5.7707e-01],\n",
              "        [8.2889e-01, 8.4922e-01, 7.6526e-01],\n",
              "        [1.5117e-01, 9.5746e-01, 6.0433e-01],\n",
              "        [9.5956e-01, 9.4450e-01, 8.4511e-01],\n",
              "        [2.4588e-02, 6.8827e-02, 1.9931e-01],\n",
              "        [5.4893e-01, 8.7564e-01, 7.7160e-02],\n",
              "        [1.1770e-01, 7.5648e-02, 7.1295e-01],\n",
              "        [9.6389e-01, 7.8102e-01, 8.7624e-01],\n",
              "        [1.8727e-01, 2.9021e-01, 1.7551e-01],\n",
              "        [7.9683e-01, 8.5449e-01, 6.4571e-01],\n",
              "        [4.3745e-02, 6.2083e-01, 9.6550e-01],\n",
              "        [2.1298e-01, 3.7566e-01, 9.9991e-01],\n",
              "        [5.9959e-01, 5.6355e-02, 5.3748e-01],\n",
              "        [3.3508e-01, 7.8119e-01, 1.6151e-01],\n",
              "        [8.0975e-01, 9.7901e-01, 6.1185e-01],\n",
              "        [3.5350e-01, 4.0362e-01, 5.7209e-01],\n",
              "        [3.0847e-01, 4.2572e-01, 4.4779e-01],\n",
              "        [1.3146e-01, 4.5714e-01, 5.7156e-01],\n",
              "        [3.3933e-01, 4.8773e-02, 4.7954e-01],\n",
              "        [6.8184e-01, 8.6319e-01, 8.0688e-01],\n",
              "        [8.2639e-01, 3.4731e-01, 7.7283e-01],\n",
              "        [1.8564e-01, 3.0446e-01, 6.3732e-01],\n",
              "        [7.4457e-01, 9.5578e-01, 2.9170e-01],\n",
              "        [8.0108e-01, 3.3344e-01, 6.9972e-01],\n",
              "        [5.7366e-01, 5.4753e-01, 6.5850e-01],\n",
              "        [1.8050e-01, 1.3665e-01, 4.4665e-01],\n",
              "        [9.3179e-02, 2.1858e-01, 3.1736e-01],\n",
              "        [2.7269e-02, 2.4979e-01, 8.2998e-02],\n",
              "        [3.6369e-01, 2.3342e-01, 7.4569e-01],\n",
              "        [2.4064e-01, 2.1636e-02, 1.3315e-01],\n",
              "        [8.5588e-01, 1.7578e-01, 3.5544e-01],\n",
              "        [2.3911e-01, 5.4925e-01, 3.8591e-01],\n",
              "        [1.4343e-01, 2.0394e-01, 4.5975e-02],\n",
              "        [3.1807e-01, 2.1624e-01, 7.2812e-01],\n",
              "        [5.3282e-01, 8.5341e-01, 2.4252e-01],\n",
              "        [9.0131e-01, 1.3268e-01, 6.5671e-01],\n",
              "        [1.1919e-01, 3.1233e-01, 9.4665e-01],\n",
              "        [8.6960e-02, 4.6076e-01, 5.8930e-01],\n",
              "        [7.2110e-01, 3.3170e-01, 1.9768e-01],\n",
              "        [1.7146e-01, 5.8928e-01, 8.0857e-01],\n",
              "        [2.1972e-01, 5.7685e-01, 2.8281e-01],\n",
              "        [1.6425e-01, 3.3675e-01, 4.6489e-01],\n",
              "        [7.5958e-02, 6.8633e-01, 8.9094e-01],\n",
              "        [8.9435e-01, 4.9973e-01, 3.1411e-01],\n",
              "        [8.2475e-01, 8.1397e-01, 2.0018e-01],\n",
              "        [3.6331e-01, 7.6684e-01, 4.8007e-01],\n",
              "        [1.8966e-01, 7.4770e-01, 2.4577e-01],\n",
              "        [8.6606e-01, 4.8619e-01, 8.8181e-01],\n",
              "        [5.3387e-01, 9.2244e-01, 7.8735e-01],\n",
              "        [2.3284e-01, 6.9202e-01, 5.0032e-01],\n",
              "        [8.8582e-01, 1.6055e-01, 8.1218e-01],\n",
              "        [1.7633e-01, 8.6691e-01, 6.8756e-01],\n",
              "        [6.2257e-01, 8.6326e-01, 5.0167e-01],\n",
              "        [2.5510e-01, 7.8183e-01, 2.1034e-01],\n",
              "        [7.5267e-01, 1.4490e-02, 3.3762e-01],\n",
              "        [2.6986e-01, 4.2938e-01, 6.5772e-01],\n",
              "        [7.8768e-01, 4.7643e-01, 4.4164e-01],\n",
              "        [7.2023e-01, 8.0440e-02, 5.9152e-03],\n",
              "        [6.6111e-01, 8.2471e-01, 7.1471e-01],\n",
              "        [7.6291e-01, 8.0363e-01, 5.7261e-01],\n",
              "        [7.6165e-01, 1.9245e-01, 3.0607e-01],\n",
              "        [1.6072e-01, 9.6685e-01, 1.1381e-01],\n",
              "        [7.7630e-01, 6.7166e-01, 7.3294e-01],\n",
              "        [1.2882e-01, 4.6228e-01, 6.3068e-01],\n",
              "        [6.5756e-01, 6.4469e-01, 4.9921e-01],\n",
              "        [8.1666e-02, 4.0274e-01, 8.1074e-01],\n",
              "        [3.6656e-01, 9.0950e-01, 8.9935e-01],\n",
              "        [8.5088e-01, 3.1852e-01, 8.1089e-01],\n",
              "        [9.9290e-01, 8.3935e-03, 1.5056e-01],\n",
              "        [6.1386e-01, 2.8004e-01, 4.5779e-01],\n",
              "        [7.1523e-01, 4.8704e-01, 6.8237e-02],\n",
              "        [6.7051e-01, 1.0503e-01, 1.5339e-01],\n",
              "        [9.9393e-01, 6.7760e-01, 6.2454e-01],\n",
              "        [3.1727e-01, 5.5167e-02, 6.0401e-02],\n",
              "        [7.7103e-01, 8.0295e-01, 1.9839e-01],\n",
              "        [3.4023e-01, 7.4466e-01, 9.2729e-01],\n",
              "        [6.9673e-01, 1.9046e-01, 3.7078e-01],\n",
              "        [2.0663e-01, 6.1173e-02, 4.5671e-01],\n",
              "        [1.1800e-01, 7.3947e-01, 3.1185e-01],\n",
              "        [3.4789e-01, 9.3733e-01, 8.9414e-01],\n",
              "        [9.4987e-01, 8.7389e-01, 3.2645e-01],\n",
              "        [7.3406e-01, 5.1015e-01, 2.5006e-01],\n",
              "        [9.2205e-01, 9.9744e-01, 6.0121e-01],\n",
              "        [8.7450e-01, 8.4209e-04, 1.7831e-01],\n",
              "        [3.8922e-01, 2.5818e-01, 9.1306e-01],\n",
              "        [1.7437e-01, 1.1398e-01, 8.4389e-01],\n",
              "        [7.4336e-01, 1.1551e-01, 6.5685e-01],\n",
              "        [9.8075e-01, 4.8378e-01, 3.5052e-01],\n",
              "        [9.8991e-01, 2.0824e-01, 6.4333e-01],\n",
              "        [2.4939e-01, 4.5620e-01, 9.1524e-01],\n",
              "        [9.5230e-01, 9.0429e-01, 5.2856e-01],\n",
              "        [6.9721e-01, 9.6953e-01, 4.5440e-01],\n",
              "        [3.3384e-01, 2.3477e-01, 5.1570e-01],\n",
              "        [3.4853e-01, 2.6045e-01, 3.1939e-01],\n",
              "        [3.5663e-02, 4.9646e-01, 7.5104e-01],\n",
              "        [9.6379e-01, 3.1454e-01, 4.4363e-01],\n",
              "        [5.5930e-01, 8.3836e-01, 6.4659e-01],\n",
              "        [3.3191e-01, 4.9856e-01, 2.9743e-01],\n",
              "        [4.6197e-02, 2.8337e-01, 3.3437e-01],\n",
              "        [2.9336e-01, 9.6337e-01, 5.8757e-01],\n",
              "        [6.1762e-01, 3.2612e-01, 3.1188e-02],\n",
              "        [5.4548e-01, 1.4523e-01, 8.1908e-01],\n",
              "        [3.1566e-01, 1.7364e-01, 9.7370e-01],\n",
              "        [6.5992e-01, 2.7793e-01, 6.2498e-01],\n",
              "        [7.1108e-01, 2.6571e-01, 1.8769e-01],\n",
              "        [8.7628e-01, 2.2280e-01, 1.5352e-01],\n",
              "        [2.8972e-01, 2.4376e-01, 7.9035e-01],\n",
              "        [7.9121e-01, 8.9430e-01, 8.4633e-01],\n",
              "        [4.0377e-01, 5.0829e-01, 2.2881e-01],\n",
              "        [8.7718e-01, 3.2703e-01, 9.5630e-01],\n",
              "        [2.3944e-01, 6.0474e-01, 8.5182e-01],\n",
              "        [9.4751e-01, 3.9188e-01, 3.5486e-01],\n",
              "        [6.8750e-01, 1.6951e-01, 8.5079e-01],\n",
              "        [6.1708e-01, 7.4384e-01, 9.7880e-01],\n",
              "        [3.1369e-01, 6.1292e-02, 3.2570e-03],\n",
              "        [2.0688e-01, 4.2034e-01, 3.9930e-01],\n",
              "        [4.5471e-03, 3.5044e-01, 9.7571e-01],\n",
              "        [8.0608e-01, 9.4589e-01, 7.1523e-01],\n",
              "        [1.7101e-01, 6.7589e-01, 4.7819e-01],\n",
              "        [8.9152e-01, 4.8436e-01, 1.5280e-01],\n",
              "        [7.0945e-01, 1.3003e-01, 3.6352e-02],\n",
              "        [4.3549e-01, 5.2456e-01, 8.9814e-01],\n",
              "        [8.9208e-01, 8.2587e-01, 3.3611e-01],\n",
              "        [7.5260e-01, 4.6171e-01, 6.4987e-01],\n",
              "        [6.7293e-01, 8.4072e-01, 7.5867e-01],\n",
              "        [9.2245e-01, 2.1773e-01, 7.1511e-01],\n",
              "        [2.5453e-01, 2.3310e-01, 6.8835e-01],\n",
              "        [4.6270e-01, 6.6587e-01, 8.0891e-01],\n",
              "        [4.3422e-03, 9.0593e-01, 6.1445e-02],\n",
              "        [6.1199e-01, 5.7902e-01, 5.5154e-01],\n",
              "        [1.6073e-01, 1.6701e-01, 4.7922e-01],\n",
              "        [2.2585e-01, 6.6760e-01, 8.9519e-01],\n",
              "        [5.4993e-01, 4.2744e-01, 9.8166e-01],\n",
              "        [1.3113e-01, 1.1624e-01, 2.3785e-01],\n",
              "        [6.3164e-01, 9.9129e-01, 7.7820e-01],\n",
              "        [9.5169e-01, 3.5814e-01, 9.4055e-01],\n",
              "        [5.8376e-01, 3.7087e-02, 5.1422e-01],\n",
              "        [2.4801e-01, 8.3246e-01, 5.8222e-02],\n",
              "        [3.3973e-01, 9.8773e-01, 7.9899e-01],\n",
              "        [1.9051e-02, 9.2687e-01, 4.5674e-01],\n",
              "        [6.1780e-01, 7.5309e-01, 4.0746e-01],\n",
              "        [3.8373e-01, 5.9610e-01, 1.2352e-01]])"
            ]
          },
          "metadata": {},
          "execution_count": 59
        }
      ]
    },
    {
      "cell_type": "code",
      "source": [
        "x_original[0,0,0] = 728218\n",
        "x_original[0,0,0],x_permuted[0,0,0]"
      ],
      "metadata": {
        "colab": {
          "base_uri": "https://localhost:8080/"
        },
        "id": "hfh_Vnhzu8mB",
        "outputId": "76b5b9ad-2aa5-4344-d36b-b01013cf83a7"
      },
      "execution_count": null,
      "outputs": [
        {
          "output_type": "execute_result",
          "data": {
            "text/plain": [
              "(tensor(728218.), tensor(728218.))"
            ]
          },
          "metadata": {},
          "execution_count": 60
        }
      ]
    },
    {
      "cell_type": "code",
      "source": [
        "x_original.shape"
      ],
      "metadata": {
        "colab": {
          "base_uri": "https://localhost:8080/"
        },
        "id": "wBC_Dw5uv7c6",
        "outputId": "d1411dc8-2890-415f-81a8-5b1753defed7"
      },
      "execution_count": null,
      "outputs": [
        {
          "output_type": "execute_result",
          "data": {
            "text/plain": [
              "torch.Size([224, 224, 3])"
            ]
          },
          "metadata": {},
          "execution_count": 62
        }
      ]
    },
    {
      "cell_type": "markdown",
      "source": [
        "#Indexing(selecting data from tensors)\n",
        "indexing with PyTorch is similar to indexing with Numpy"
      ],
      "metadata": {
        "id": "V7HiW4McCdrS"
      }
    },
    {
      "cell_type": "code",
      "source": [
        "import torch\n",
        "x = torch.arange(1,10).reshape(1,3,3)\n",
        "x,x.shape"
      ],
      "metadata": {
        "id": "93cmv-8vv_Qh",
        "outputId": "484d0272-539b-4538-f436-17eded77fcbb",
        "colab": {
          "base_uri": "https://localhost:8080/"
        }
      },
      "execution_count": 2,
      "outputs": [
        {
          "output_type": "execute_result",
          "data": {
            "text/plain": [
              "(tensor([[[1, 2, 3],\n",
              "          [4, 5, 6],\n",
              "          [7, 8, 9]]]),\n",
              " torch.Size([1, 3, 3]))"
            ]
          },
          "metadata": {},
          "execution_count": 2
        }
      ]
    },
    {
      "cell_type": "code",
      "source": [
        "x[0]"
      ],
      "metadata": {
        "id": "kiphWbyxC63T",
        "outputId": "6ce28fc5-c8ff-4bae-dd5d-9aad51e21531",
        "colab": {
          "base_uri": "https://localhost:8080/"
        }
      },
      "execution_count": 3,
      "outputs": [
        {
          "output_type": "execute_result",
          "data": {
            "text/plain": [
              "tensor([[1, 2, 3],\n",
              "        [4, 5, 6],\n",
              "        [7, 8, 9]])"
            ]
          },
          "metadata": {},
          "execution_count": 3
        }
      ]
    },
    {
      "cell_type": "code",
      "source": [
        "x[0][0]"
      ],
      "metadata": {
        "id": "B751eLMSDMH5",
        "outputId": "486947ba-c64f-4595-bc3e-f19760962d83",
        "colab": {
          "base_uri": "https://localhost:8080/"
        }
      },
      "execution_count": 4,
      "outputs": [
        {
          "output_type": "execute_result",
          "data": {
            "text/plain": [
              "tensor([1, 2, 3])"
            ]
          },
          "metadata": {},
          "execution_count": 4
        }
      ]
    },
    {
      "cell_type": "code",
      "source": [
        "x[0][0][0]"
      ],
      "metadata": {
        "id": "HTl7tO4pDN-C",
        "outputId": "f1052926-954a-41ad-de1a-74d46b08e5b6",
        "colab": {
          "base_uri": "https://localhost:8080/"
        }
      },
      "execution_count": 5,
      "outputs": [
        {
          "output_type": "execute_result",
          "data": {
            "text/plain": [
              "tensor(1)"
            ]
          },
          "metadata": {},
          "execution_count": 5
        }
      ]
    },
    {
      "cell_type": "code",
      "source": [
        "x[0][2][2]"
      ],
      "metadata": {
        "id": "FqriUlPnDP-B",
        "outputId": "3c83a225-530f-45a3-c208-89d5f8cfa90c",
        "colab": {
          "base_uri": "https://localhost:8080/"
        }
      },
      "execution_count": 7,
      "outputs": [
        {
          "output_type": "execute_result",
          "data": {
            "text/plain": [
              "tensor(9)"
            ]
          },
          "metadata": {},
          "execution_count": 7
        }
      ]
    },
    {
      "cell_type": "code",
      "source": [
        "x[:,:,0]"
      ],
      "metadata": {
        "id": "nPxpug4PDjfm",
        "outputId": "c0231546-929b-407a-d682-6048dec597d7",
        "colab": {
          "base_uri": "https://localhost:8080/"
        }
      },
      "execution_count": 8,
      "outputs": [
        {
          "output_type": "execute_result",
          "data": {
            "text/plain": [
              "tensor([[1, 4, 7]])"
            ]
          },
          "metadata": {},
          "execution_count": 8
        }
      ]
    },
    {
      "cell_type": "code",
      "source": [
        "x[:,0]"
      ],
      "metadata": {
        "id": "5jMTOtO8DsXT",
        "outputId": "3a26fced-ac94-47a7-d1f1-9f5a561389d5",
        "colab": {
          "base_uri": "https://localhost:8080/"
        }
      },
      "execution_count": 9,
      "outputs": [
        {
          "output_type": "execute_result",
          "data": {
            "text/plain": [
              "tensor([[1, 2, 3]])"
            ]
          },
          "metadata": {},
          "execution_count": 9
        }
      ]
    },
    {
      "cell_type": "code",
      "source": [
        "x[:,:,:]"
      ],
      "metadata": {
        "id": "TtDaSzFoE3EB",
        "outputId": "fe1aeff1-8739-48cb-e35e-98a0679573fb",
        "colab": {
          "base_uri": "https://localhost:8080/"
        }
      },
      "execution_count": 10,
      "outputs": [
        {
          "output_type": "execute_result",
          "data": {
            "text/plain": [
              "tensor([[[1, 2, 3],\n",
              "         [4, 5, 6],\n",
              "         [7, 8, 9]]])"
            ]
          },
          "metadata": {},
          "execution_count": 10
        }
      ]
    },
    {
      "cell_type": "code",
      "source": [
        "x[:,1]"
      ],
      "metadata": {
        "id": "DQZke7hwE5A6",
        "outputId": "645207dc-81c0-452c-b83e-6d9a4318b695",
        "colab": {
          "base_uri": "https://localhost:8080/"
        }
      },
      "execution_count": 11,
      "outputs": [
        {
          "output_type": "execute_result",
          "data": {
            "text/plain": [
              "tensor([[4, 5, 6]])"
            ]
          },
          "metadata": {},
          "execution_count": 11
        }
      ]
    },
    {
      "cell_type": "markdown",
      "source": [
        "#Pytorch tensors and numpy\n",
        "numpy is a popular scentific python numerical computing library\n",
        "beacuaseof this , it can intrect with pytorch tensors.\n",
        "\n",
        "\n",
        "1.   Data in Numpy want in pytorch sensors -> *torch.from_numpy(ndarray)*\n",
        "2.   pyTorch tensor  - > Numpy -> *torch.Tensors.numpy()*\n",
        "\n"
      ],
      "metadata": {
        "id": "zoacCmPMFsuY"
      }
    },
    {
      "cell_type": "code",
      "source": [
        "#Numpy array to tensor\n",
        "import torch\n",
        "import numpy as np\n",
        "\n",
        "arr = np.arange(1.0,8.0)\n",
        "tensor = torch.from_numpy(arr) #warning: when convering from numpy -> pytorch, pytorch reflects numpy's defualt datatype of float64 unless specified otherwise\n",
        "arr, tensor"
      ],
      "metadata": {
        "id": "4QZnXPVDFGYe",
        "outputId": "cf7e64bc-633d-4bf7-e7bc-b5d530fad201",
        "colab": {
          "base_uri": "https://localhost:8080/"
        }
      },
      "execution_count": 14,
      "outputs": [
        {
          "output_type": "execute_result",
          "data": {
            "text/plain": [
              "(array([1., 2., 3., 4., 5., 6., 7.]),\n",
              " tensor([1., 2., 3., 4., 5., 6., 7.], dtype=torch.float64))"
            ]
          },
          "metadata": {},
          "execution_count": 14
        }
      ]
    },
    {
      "cell_type": "code",
      "source": [
        "tensor.dtype"
      ],
      "metadata": {
        "id": "-nigk2gSIja-",
        "outputId": "eab33316-19a8-47b2-c923-3812110ef1a5",
        "colab": {
          "base_uri": "https://localhost:8080/"
        }
      },
      "execution_count": 15,
      "outputs": [
        {
          "output_type": "execute_result",
          "data": {
            "text/plain": [
              "torch.float64"
            ]
          },
          "metadata": {},
          "execution_count": 15
        }
      ]
    },
    {
      "cell_type": "code",
      "source": [
        "arr.dtype"
      ],
      "metadata": {
        "id": "E4_g8SDGIxnJ",
        "outputId": "7924ce9f-bc19-4383-dbda-ab8c37bb2df9",
        "colab": {
          "base_uri": "https://localhost:8080/"
        }
      },
      "execution_count": 16,
      "outputs": [
        {
          "output_type": "execute_result",
          "data": {
            "text/plain": [
              "dtype('float64')"
            ]
          },
          "metadata": {},
          "execution_count": 16
        }
      ]
    },
    {
      "cell_type": "code",
      "source": [
        "#change the value of array , it does not affect tensor\n",
        "arr = arr + 1\n",
        "arr, tensor"
      ],
      "metadata": {
        "id": "eTrlVGRYIzor",
        "outputId": "053d9cb9-f325-4044-e3fd-f43ab3ae970a",
        "colab": {
          "base_uri": "https://localhost:8080/"
        }
      },
      "execution_count": 17,
      "outputs": [
        {
          "output_type": "execute_result",
          "data": {
            "text/plain": [
              "(array([2., 3., 4., 5., 6., 7., 8.]),\n",
              " tensor([1., 2., 3., 4., 5., 6., 7.], dtype=torch.float64))"
            ]
          },
          "metadata": {},
          "execution_count": 17
        }
      ]
    },
    {
      "cell_type": "code",
      "source": [
        "#tensors to numpy array\n",
        "tensor = torch.ones(7)\n",
        "numpy_tensor = tensor.numpy()\n",
        "tensor, numpy_tensor"
      ],
      "metadata": {
        "id": "z5Kj3jFLJMOu",
        "outputId": "87e7392b-2b9f-4134-b980-00d80154d0ad",
        "colab": {
          "base_uri": "https://localhost:8080/"
        }
      },
      "execution_count": 18,
      "outputs": [
        {
          "output_type": "execute_result",
          "data": {
            "text/plain": [
              "(tensor([1., 1., 1., 1., 1., 1., 1.]),\n",
              " array([1., 1., 1., 1., 1., 1., 1.], dtype=float32))"
            ]
          },
          "metadata": {},
          "execution_count": 18
        }
      ]
    },
    {
      "cell_type": "code",
      "source": [
        "numpy_tensor.dtype"
      ],
      "metadata": {
        "id": "nxrEhMmmJlZw",
        "outputId": "9f87ebb1-fd5c-43bb-ad46-6b007cfdefcf",
        "colab": {
          "base_uri": "https://localhost:8080/"
        }
      },
      "execution_count": 20,
      "outputs": [
        {
          "output_type": "execute_result",
          "data": {
            "text/plain": [
              "dtype('float32')"
            ]
          },
          "metadata": {},
          "execution_count": 20
        }
      ]
    },
    {
      "cell_type": "code",
      "source": [
        "#now when we chnage tensor,it does not change numpy\n",
        "tensor = tensor + 1\n",
        "tensor, numpy_tensor"
      ],
      "metadata": {
        "id": "csM7r-SrKC0-",
        "outputId": "d78a67ee-8f19-4636-ac53-3b77c723a81a",
        "colab": {
          "base_uri": "https://localhost:8080/"
        }
      },
      "execution_count": 21,
      "outputs": [
        {
          "output_type": "execute_result",
          "data": {
            "text/plain": [
              "(tensor([2., 2., 2., 2., 2., 2., 2.]),\n",
              " array([1., 1., 1., 1., 1., 1., 1.], dtype=float32))"
            ]
          },
          "metadata": {},
          "execution_count": 21
        }
      ]
    },
    {
      "cell_type": "markdown",
      "source": [
        "# Reproducibility(trying to take random out of random)\n",
        "In short how a NN lerans:\n",
        "\n",
        "`start with random numbers -> tensors oprations -> updata random numbers to try and make them of the data -> again ->again-> agian...`\n",
        "\n",
        "To reduce the randomness in NN and Pytorch comes the concept of a random of a **random seed**\n",
        "\n",
        "Essentially what the random seed does is  \"flavor\" the randomness\n",
        "\n"
      ],
      "metadata": {
        "id": "iaZdt74CKbyt"
      }
    },
    {
      "cell_type": "code",
      "source": [
        "torch.rand(3,3)"
      ],
      "metadata": {
        "id": "bWnyoGMzKRHk",
        "outputId": "ec4f6cd2-bf2d-4147-de85-ea394c0eecbf",
        "colab": {
          "base_uri": "https://localhost:8080/"
        }
      },
      "execution_count": 22,
      "outputs": [
        {
          "output_type": "execute_result",
          "data": {
            "text/plain": [
              "tensor([[0.1005, 0.9185, 0.8068],\n",
              "        [0.0975, 0.1350, 0.8074],\n",
              "        [0.6622, 0.6949, 0.9055]])"
            ]
          },
          "metadata": {},
          "execution_count": 22
        }
      ]
    },
    {
      "cell_type": "code",
      "source": [
        "random_tensor_A = torch.rand(3,4)\n",
        "random_tensor_B = torch.rand(3,4)\n",
        "\n",
        "print(random_tensor_A)\n",
        "print(random_tensor_B)\n",
        "# print(random_tensor_A == random_tensor_B)"
      ],
      "metadata": {
        "id": "Hnr3GnUoMitO",
        "outputId": "c03dd6c7-f26f-486a-8152-7da770bcab52",
        "colab": {
          "base_uri": "https://localhost:8080/"
        }
      },
      "execution_count": 24,
      "outputs": [
        {
          "output_type": "stream",
          "name": "stdout",
          "text": [
            "tensor([[0.0774, 0.6442, 0.9440, 0.2452],\n",
            "        [0.0352, 0.6466, 0.1063, 0.8990],\n",
            "        [0.8413, 0.1890, 0.0428, 0.4965]])\n",
            "tensor([[0.2514, 0.8248, 0.1786, 0.3051],\n",
            "        [0.2433, 0.4422, 0.9102, 0.5608],\n",
            "        [0.9771, 0.7899, 0.3676, 0.1160]])\n"
          ]
        }
      ]
    },
    {
      "cell_type": "code",
      "source": [
        "\n",
        "#let's make some random but reproducible tensors\n",
        "\n",
        "import torch\n",
        "\n",
        "#set the random seed\n",
        "RANDOM_SEED = 42\n",
        "torch.manual_seed(RANDOM_SEED)\n",
        "random_tensor_C = torch.rand(3,4)\n",
        "\n",
        "torch.manual_seed(RANDOM_SEED)\n",
        "random_tensor_D = torch.rand(3,4)\n",
        "\n",
        "print(random_tensor_C)\n",
        "print(random_tensor_D)\n",
        "print(random_tensor_C == random_tensor_D)"
      ],
      "metadata": {
        "id": "KyHn2zx_NdcW",
        "outputId": "5a4ebe5e-022a-4db7-fac9-b13d064d9349",
        "colab": {
          "base_uri": "https://localhost:8080/"
        }
      },
      "execution_count": 25,
      "outputs": [
        {
          "output_type": "stream",
          "name": "stdout",
          "text": [
            "tensor([[0.8823, 0.9150, 0.3829, 0.9593],\n",
            "        [0.3904, 0.6009, 0.2566, 0.7936],\n",
            "        [0.9408, 0.1332, 0.9346, 0.5936]])\n",
            "tensor([[0.8823, 0.9150, 0.3829, 0.9593],\n",
            "        [0.3904, 0.6009, 0.2566, 0.7936],\n",
            "        [0.9408, 0.1332, 0.9346, 0.5936]])\n",
            "tensor([[True, True, True, True],\n",
            "        [True, True, True, True],\n",
            "        [True, True, True, True]])\n"
          ]
        }
      ]
    },
    {
      "cell_type": "markdown",
      "source": [
        "Extra resorce of reproduciblity:\n",
        "* https://pytorch.org/docs/stable/notes/randomness.html\n",
        "* https://pytorch.org/docs/stable/notes/randomness.html"
      ],
      "metadata": {
        "id": "BW3aeIoJPoBN"
      }
    },
    {
      "cell_type": "code",
      "source": [],
      "metadata": {
        "id": "qKJ02Za9PLik"
      },
      "execution_count": null,
      "outputs": []
    }
  ]
}